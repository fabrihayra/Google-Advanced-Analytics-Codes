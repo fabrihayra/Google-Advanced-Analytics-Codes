{
  "nbformat": 4,
  "nbformat_minor": 0,
  "metadata": {
    "colab": {
      "provenance": []
    },
    "kernelspec": {
      "name": "python3",
      "display_name": "Python 3"
    },
    "language_info": {
      "name": "python"
    }
  },
  "cells": [
    {
      "cell_type": "markdown",
      "source": [
        "# **Introduction**\n",
        "You work for an environmental think tank called Repair Our Air (ROA). ROA is formulating policy recommendations to improve the air quality in America, using the Environmental Protection Agency's Air Quality Index (AQI) to guide their decision making. An AQI value close to 0 signals \"little to no\" public health concern, while higher values are associated with increased risk to public health.\n",
        "\n",
        "They've tasked you with leveraging AQI data to help them prioritize their strategy for improving air quality in America.\n",
        "\n",
        "ROA is considering the following decisions. For each, construct a hypothesis test and an accompanying visualization, using your results of that test to make a recommendation:\n",
        "\n",
        "1. ROA is considering a metropolitan-focused approach. Within California, they want to know if the mean AQI in Los Angeles County is statistically different from the rest of California.\n",
        "2. With limited resources, ROA has to choose between New York and Ohio for their next regional office. Does New York have a lower AQI than Ohio?\n",
        "3. A new policy will affect those states with a mean AQI of 10 or greater. Can you rule out Michigan from being affected by this new policy?\n",
        "\n",
        "**Notes:**\n",
        "\n",
        "- For your analysis, you'll default to a 5% level of significance.\n",
        "- Throughout the lab, for two-sample t-tests, use Welch's t-test (i.e., setting the equal_var parameter to False in scipy.stats.ttest_ind()). This will account for the possibly unequal variances between the two groups in the comparison."
      ],
      "metadata": {
        "id": "thO0o_w6bUUa"
      }
    },
    {
      "cell_type": "code",
      "source": [
        "import pandas as pd\n",
        "import numpy as np\n",
        "from scipy import stats\n",
        "\n",
        "aqi = pd.read_csv('/content/_c4_epa_air_quality.csv')\n",
        "print(\"Showing a sample of data:\")\n",
        "print(aqi.head())\n",
        "\n",
        "print(\"\\nSummarizing AQI:\")\n",
        "print(aqi.describe(include='all'))\n",
        "\n",
        "print(\"\\nFurther examinations:\")\n",
        "print(aqi['state_name'].value_counts())"
      ],
      "metadata": {
        "colab": {
          "base_uri": "https://localhost:8080/"
        },
        "id": "fVFQQHVub6TW",
        "outputId": "b7d092f9-2c20-459b-ee4e-9bd72bfeae11"
      },
      "execution_count": 3,
      "outputs": [
        {
          "output_type": "stream",
          "name": "stdout",
          "text": [
            "Showing a sample of data:\n",
            "   Unnamed: 0  date_local    state_name   county_name      city_name  \\\n",
            "0           0  2018-01-01       Arizona      Maricopa        Buckeye   \n",
            "1           1  2018-01-01          Ohio       Belmont      Shadyside   \n",
            "2           2  2018-01-01       Wyoming         Teton  Not in a city   \n",
            "3           3  2018-01-01  Pennsylvania  Philadelphia   Philadelphia   \n",
            "4           4  2018-01-01          Iowa          Polk     Des Moines   \n",
            "\n",
            "                                     local_site_name   parameter_name  \\\n",
            "0                                            BUCKEYE  Carbon monoxide   \n",
            "1                                          Shadyside  Carbon monoxide   \n",
            "2  Yellowstone National Park - Old Faithful Snow ...  Carbon monoxide   \n",
            "3                             North East Waste (NEW)  Carbon monoxide   \n",
            "4                                          CARPENTER  Carbon monoxide   \n",
            "\n",
            "    units_of_measure  arithmetic_mean  aqi  \n",
            "0  Parts per million         0.473684    7  \n",
            "1  Parts per million         0.263158    5  \n",
            "2  Parts per million         0.111111    2  \n",
            "3  Parts per million         0.300000    3  \n",
            "4  Parts per million         0.215789    3  \n",
            "\n",
            "Summarizing AQI:\n",
            "        Unnamed: 0  date_local  state_name  county_name      city_name  \\\n",
            "count   260.000000         260         260          260            260   \n",
            "unique         NaN           1          52          149            190   \n",
            "top            NaN  2018-01-01  California  Los Angeles  Not in a city   \n",
            "freq           NaN         260          66           14             21   \n",
            "mean    129.500000         NaN         NaN          NaN            NaN   \n",
            "std      75.199734         NaN         NaN          NaN            NaN   \n",
            "min       0.000000         NaN         NaN          NaN            NaN   \n",
            "25%      64.750000         NaN         NaN          NaN            NaN   \n",
            "50%     129.500000         NaN         NaN          NaN            NaN   \n",
            "75%     194.250000         NaN         NaN          NaN            NaN   \n",
            "max     259.000000         NaN         NaN          NaN            NaN   \n",
            "\n",
            "       local_site_name   parameter_name   units_of_measure  arithmetic_mean  \\\n",
            "count              257              260                260       260.000000   \n",
            "unique             253                1                  1              NaN   \n",
            "top            Kapolei  Carbon monoxide  Parts per million              NaN   \n",
            "freq                 2              260                260              NaN   \n",
            "mean               NaN              NaN                NaN         0.403169   \n",
            "std                NaN              NaN                NaN         0.317902   \n",
            "min                NaN              NaN                NaN         0.000000   \n",
            "25%                NaN              NaN                NaN         0.200000   \n",
            "50%                NaN              NaN                NaN         0.276315   \n",
            "75%                NaN              NaN                NaN         0.516009   \n",
            "max                NaN              NaN                NaN         1.921053   \n",
            "\n",
            "               aqi  \n",
            "count   260.000000  \n",
            "unique         NaN  \n",
            "top            NaN  \n",
            "freq           NaN  \n",
            "mean      6.757692  \n",
            "std       7.061707  \n",
            "min       0.000000  \n",
            "25%       2.000000  \n",
            "50%       5.000000  \n",
            "75%       9.000000  \n",
            "max      50.000000  \n",
            "\n",
            "Further examinations:\n",
            "California              66\n",
            "Arizona                 14\n",
            "Ohio                    12\n",
            "Florida                 12\n",
            "Texas                   10\n",
            "New York                10\n",
            "Pennsylvania            10\n",
            "Michigan                 9\n",
            "Colorado                 9\n",
            "Minnesota                7\n",
            "New Jersey               6\n",
            "Indiana                  5\n",
            "North Carolina           4\n",
            "Massachusetts            4\n",
            "Maryland                 4\n",
            "Oklahoma                 4\n",
            "Virginia                 4\n",
            "Nevada                   4\n",
            "Connecticut              4\n",
            "Kentucky                 3\n",
            "Missouri                 3\n",
            "Wyoming                  3\n",
            "Iowa                     3\n",
            "Hawaii                   3\n",
            "Utah                     3\n",
            "Vermont                  3\n",
            "Illinois                 3\n",
            "New Hampshire            2\n",
            "District Of Columbia     2\n",
            "New Mexico               2\n",
            "Montana                  2\n",
            "Oregon                   2\n",
            "Alaska                   2\n",
            "Georgia                  2\n",
            "Washington               2\n",
            "Idaho                    2\n",
            "Nebraska                 2\n",
            "Rhode Island             2\n",
            "Tennessee                2\n",
            "Maine                    2\n",
            "South Carolina           1\n",
            "Puerto Rico              1\n",
            "Arkansas                 1\n",
            "Kansas                   1\n",
            "Mississippi              1\n",
            "Alabama                  1\n",
            "Louisiana                1\n",
            "Delaware                 1\n",
            "South Dakota             1\n",
            "West Virginia            1\n",
            "North Dakota             1\n",
            "Wisconsin                1\n",
            "Name: state_name, dtype: int64\n"
          ]
        }
      ]
    },
    {
      "cell_type": "markdown",
      "source": [
        "**Insights:**\n",
        "- The dataset presents county-level data for the first hypothesis.\n",
        "- Ohio and New York both have a higher number of observations in the dataset.\n",
        "\n",
        "**Statistical Tests:**\n",
        "1. Formulate the null hypothesis and the alternative hypothesis.\n",
        "2. Set the significance level.\n",
        "3. Determine the appropriate test procedure.\n",
        "4. Compute the p-value.\n",
        "5. Draw the conclusion.\n",
        "\n",
        "**Hypothesis 1:** ROA is considering a metropolitan-focused approach. Within California, they want to know if the mean AQI in Los Angeles County is statistically different from the rest of California.\n"
      ],
      "metadata": {
        "id": "5ZevBpWCdEC4"
      }
    },
    {
      "cell_type": "code",
      "source": [
        "#creating dataframes for each sample being compared in the test\n",
        "\n",
        "ca_la = aqi[aqi['county_name']=='Los Angeles']\n",
        "ca_other = aqi[(aqi['state_name']=='California') & (aqi['county_name'] !='Los Angeles')]"
      ],
      "metadata": {
        "id": "236bExGEc2Rd"
      },
      "execution_count": 10,
      "outputs": []
    },
    {
      "cell_type": "markdown",
      "source": [
        "**Formulating the hypothesis:**\n",
        "\n",
        "H0: There is no difference in the mean AQI between Los Angeles County and the rest of California.\n",
        "\n",
        "Ha: There is a difference in the mean AQI between Los Angeles County and the rest of California."
      ],
      "metadata": {
        "id": "KcYPM4dTe2od"
      }
    },
    {
      "cell_type": "code",
      "source": [
        "#significance level will be set at 5%\n",
        "\n",
        "significance_level = 0.05\n",
        "significance_level\n",
        "\n",
        "#utilizing a two-sample t-test to compare the sample means between the two independent samples.\n",
        "stats.ttest_ind(a=ca_la['aqi'], b=ca_other['aqi'], equal_var=False)"
      ],
      "metadata": {
        "colab": {
          "base_uri": "https://localhost:8080/"
        },
        "id": "yJmWzt4regdU",
        "outputId": "d60c7fbe-016b-4ceb-c5d2-f34cac9f6213"
      },
      "execution_count": 13,
      "outputs": [
        {
          "output_type": "execute_result",
          "data": {
            "text/plain": [
              "Ttest_indResult(statistic=2.1107010796372014, pvalue=0.049839056842410995)"
            ]
          },
          "metadata": {},
          "execution_count": 13
        }
      ]
    },
    {
      "cell_type": "markdown",
      "source": [
        "**Insights:**\n",
        "- Since the p-value is 0.049 is less than the significance rate of 0.05%, we would reject the null hypothesis in favor of the alternative hypothesis. In this case, the metropolitan approach would make more sense.\n",
        "\n",
        "**Hypothesis 2:** With limited resources, ROA has to choose between New York and Ohio for their next regional office. Does New York have a lower AQI than Ohio?"
      ],
      "metadata": {
        "id": "UeGXo6LufufM"
      }
    },
    {
      "cell_type": "code",
      "source": [
        "#creating dataframes for each sample being compared in the test\n",
        "\n",
        "ny = aqi[aqi['state_name']=='New York']\n",
        "ohio = aqi[aqi['state_name']=='Ohio']"
      ],
      "metadata": {
        "id": "r5zB-gInfTNY"
      },
      "execution_count": 14,
      "outputs": []
    },
    {
      "cell_type": "markdown",
      "source": [
        "**Formulating the hypothesis:**\n",
        "\n",
        "H0: The mean AQI of New York is greater than or equal to Ohio.\n",
        "\n",
        "Ha: The mean AQI of New York is below Ohio.\n",
        "\n",
        "- **Significance levels remain in 5%**\n",
        "- Two-sample t-test"
      ],
      "metadata": {
        "id": "brUYVIf6gpse"
      }
    },
    {
      "cell_type": "code",
      "source": [
        "#computing the p-value\n",
        "\n",
        "tstat, pvalue = stats.ttest_ind(a=ny['aqi'], b=ohio['aqi'], alternative='less', equal_var=False)\n",
        "print(\"tstat:\", tstat)\n",
        "print(\"p-value:\", pvalue)\n"
      ],
      "metadata": {
        "colab": {
          "base_uri": "https://localhost:8080/"
        },
        "id": "rgpQO2LPgo1D",
        "outputId": "e57b5bfd-3c6f-4aee-ca19-3bf0feec46e3"
      },
      "execution_count": 15,
      "outputs": [
        {
          "output_type": "stream",
          "name": "stdout",
          "text": [
            "tstat: -2.025951038880333\n",
            "p-value: 0.03044650269193468\n"
          ]
        }
      ]
    },
    {
      "cell_type": "markdown",
      "source": [
        "**Insights:**\n",
        "\n",
        "- Since the p-value is 0.030 is less than the significance level of 0.05% and the t-statistic valued as 0 < (-2.036), we would reject the null hypothesis in favor of the alternative hypothesis.\n",
        "- In result, we can conclude at 5% significance level that the AQI of New York is lower than the mean AQI in Ohio.\n",
        "\n",
        "**Hypothesis 3:** A new policy will affect those states within a mean AQI of 10 or greater. Can you rule out Michigan from being affected by this new policy?"
      ],
      "metadata": {
        "id": "3sxmYUMjh6I5"
      }
    },
    {
      "cell_type": "code",
      "source": [
        "michigan = aqi[aqi['state_name']=='Michigan']"
      ],
      "metadata": {
        "id": "BanLG7GEhzhN"
      },
      "execution_count": 16,
      "outputs": []
    },
    {
      "cell_type": "markdown",
      "source": [
        "**Formulating hypothesis:**\n",
        "\n",
        "H0: The mean AQI of Michigan is less than or equal to 10.\n",
        "HA: The mean AQI of Michigan is greater than 10.\n",
        "\n",
        "- Significance levels remain in 5%\n",
        "- One-sample t-test"
      ],
      "metadata": {
        "id": "8o5Sxf7ek2a_"
      }
    },
    {
      "cell_type": "code",
      "source": [
        "#computing p-value\n",
        "\n",
        "tstat, pvalue = stats.ttest_1samp(michigan['aqi'], 10, alternative='greater')\n",
        "print(\"tstat:\", tstat)\n",
        "print(\"p-value:\", pvalue)"
      ],
      "metadata": {
        "colab": {
          "base_uri": "https://localhost:8080/"
        },
        "id": "7qj5MCwZk0MJ",
        "outputId": "7d313fb6-e13d-430d-f38c-fbbbc5f44503"
      },
      "execution_count": 17,
      "outputs": [
        {
          "output_type": "stream",
          "name": "stdout",
          "text": [
            "tstat: -1.7395913343286131\n",
            "p-value: 0.9399405193140109\n"
          ]
        }
      ]
    },
    {
      "cell_type": "markdown",
      "source": [
        "**Insights:**\n",
        "\n",
        "- Since the p-value of 0.940 being greater than the significance level of 0.05 and the t-statistic value is < 0 (-1.74), we'll fail to reject the null hypothesis.\n",
        "\n",
        "- In result, we can not conclude that at 5% significance level Michigan's mean AQI is greater than 10. Therefore, Michigan would not be affected by the new policy.\n",
        "- The results indicated that the AQI in Los Angeles County is in fact different from the rest of the state of California. Also, based on results we can conclude that New York has in fact a lower AQI than Ohio."
      ],
      "metadata": {
        "id": "lDlf-CL1lc-r"
      }
    }
  ]
}